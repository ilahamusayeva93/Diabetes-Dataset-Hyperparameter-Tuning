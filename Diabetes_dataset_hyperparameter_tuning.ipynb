{
 "cells": [
  {
   "cell_type": "code",
   "execution_count": 1,
   "id": "b038f636-17f7-47c1-8d39-3f09fe152c7c",
   "metadata": {},
   "outputs": [
    {
     "name": "stdout",
     "output_type": "stream",
     "text": [
      "C:\\Users\\ACER\\Desktop\n"
     ]
    }
   ],
   "source": [
    "import os\n",
    "print(os.getcwd())"
   ]
  },
  {
   "cell_type": "code",
   "execution_count": 2,
   "id": "438503ca-76a8-42c7-9fe4-ae1a68fc823b",
   "metadata": {},
   "outputs": [
    {
     "name": "stdout",
     "output_type": "stream",
     "text": [
      "Requirement already satisfied: scikit-optimize in c:\\users\\acer\\anaconda3\\lib\\site-packages (0.9.0)\n",
      "Requirement already satisfied: joblib>=0.11 in c:\\users\\acer\\anaconda3\\lib\\site-packages (from scikit-optimize) (1.2.0)\n",
      "Requirement already satisfied: pyaml>=16.9 in c:\\users\\acer\\anaconda3\\lib\\site-packages (from scikit-optimize) (23.9.6)\n",
      "Requirement already satisfied: numpy>=1.13.3 in c:\\users\\acer\\anaconda3\\lib\\site-packages (from scikit-optimize) (1.24.3)\n",
      "Requirement already satisfied: scipy>=0.19.1 in c:\\users\\acer\\anaconda3\\lib\\site-packages (from scikit-optimize) (1.10.1)\n",
      "Requirement already satisfied: scikit-learn>=0.20.0 in c:\\users\\acer\\anaconda3\\lib\\site-packages (from scikit-optimize) (1.2.2)\n",
      "Requirement already satisfied: PyYAML in c:\\users\\acer\\anaconda3\\lib\\site-packages (from pyaml>=16.9->scikit-optimize) (6.0)\n",
      "Requirement already satisfied: threadpoolctl>=2.0.0 in c:\\users\\acer\\anaconda3\\lib\\site-packages (from scikit-learn>=0.20.0->scikit-optimize) (2.2.0)\n"
     ]
    }
   ],
   "source": [
    "import pandas as pd\n",
    "import numpy as np\n",
    "import seaborn as sns\n",
    "import matplotlib.pyplot as plt\n",
    "from sklearn.preprocessing import RobustScaler\n",
    "from sklearn.model_selection import train_test_split\n",
    "from sklearn.metrics import classification_report\n",
    "!pip install scikit-optimize\n",
    "from skopt import BayesSearchCV\n",
    "from skopt.space import Real,Categorical,Integer\n",
    "from sklearn.model_selection import RandomizedSearchCV\n",
    "from sklearn.metrics import accuracy_score\n",
    "import warnings\n",
    "warnings.filterwarnings('ignore')\n",
    "from sklearn.model_selection import GridSearchCV"
   ]
  },
  {
   "cell_type": "code",
   "execution_count": 3,
   "id": "e22121f2-493b-4f84-8452-6aa929f25010",
   "metadata": {},
   "outputs": [],
   "source": [
    "df=pd.read_csv(\"diabetes.csv\")"
   ]
  },
  {
   "cell_type": "code",
   "execution_count": 4,
   "id": "691bddc9-e606-4159-9cc7-c5350ebba437",
   "metadata": {},
   "outputs": [
    {
     "data": {
      "text/html": [
       "<div>\n",
       "<style scoped>\n",
       "    .dataframe tbody tr th:only-of-type {\n",
       "        vertical-align: middle;\n",
       "    }\n",
       "\n",
       "    .dataframe tbody tr th {\n",
       "        vertical-align: top;\n",
       "    }\n",
       "\n",
       "    .dataframe thead th {\n",
       "        text-align: right;\n",
       "    }\n",
       "</style>\n",
       "<table border=\"1\" class=\"dataframe\">\n",
       "  <thead>\n",
       "    <tr style=\"text-align: right;\">\n",
       "      <th></th>\n",
       "      <th>Pregnancies</th>\n",
       "      <th>Glucose</th>\n",
       "      <th>BloodPressure</th>\n",
       "      <th>SkinThickness</th>\n",
       "      <th>Insulin</th>\n",
       "      <th>BMI</th>\n",
       "      <th>DiabetesPedigreeFunction</th>\n",
       "      <th>Age</th>\n",
       "      <th>Outcome</th>\n",
       "    </tr>\n",
       "  </thead>\n",
       "  <tbody>\n",
       "    <tr>\n",
       "      <th>0</th>\n",
       "      <td>6</td>\n",
       "      <td>148</td>\n",
       "      <td>72</td>\n",
       "      <td>35</td>\n",
       "      <td>0</td>\n",
       "      <td>33.6</td>\n",
       "      <td>0.627</td>\n",
       "      <td>50</td>\n",
       "      <td>1</td>\n",
       "    </tr>\n",
       "    <tr>\n",
       "      <th>1</th>\n",
       "      <td>1</td>\n",
       "      <td>85</td>\n",
       "      <td>66</td>\n",
       "      <td>29</td>\n",
       "      <td>0</td>\n",
       "      <td>26.6</td>\n",
       "      <td>0.351</td>\n",
       "      <td>31</td>\n",
       "      <td>0</td>\n",
       "    </tr>\n",
       "    <tr>\n",
       "      <th>2</th>\n",
       "      <td>8</td>\n",
       "      <td>183</td>\n",
       "      <td>64</td>\n",
       "      <td>0</td>\n",
       "      <td>0</td>\n",
       "      <td>23.3</td>\n",
       "      <td>0.672</td>\n",
       "      <td>32</td>\n",
       "      <td>1</td>\n",
       "    </tr>\n",
       "    <tr>\n",
       "      <th>3</th>\n",
       "      <td>1</td>\n",
       "      <td>89</td>\n",
       "      <td>66</td>\n",
       "      <td>23</td>\n",
       "      <td>94</td>\n",
       "      <td>28.1</td>\n",
       "      <td>0.167</td>\n",
       "      <td>21</td>\n",
       "      <td>0</td>\n",
       "    </tr>\n",
       "    <tr>\n",
       "      <th>4</th>\n",
       "      <td>0</td>\n",
       "      <td>137</td>\n",
       "      <td>40</td>\n",
       "      <td>35</td>\n",
       "      <td>168</td>\n",
       "      <td>43.1</td>\n",
       "      <td>2.288</td>\n",
       "      <td>33</td>\n",
       "      <td>1</td>\n",
       "    </tr>\n",
       "    <tr>\n",
       "      <th>...</th>\n",
       "      <td>...</td>\n",
       "      <td>...</td>\n",
       "      <td>...</td>\n",
       "      <td>...</td>\n",
       "      <td>...</td>\n",
       "      <td>...</td>\n",
       "      <td>...</td>\n",
       "      <td>...</td>\n",
       "      <td>...</td>\n",
       "    </tr>\n",
       "    <tr>\n",
       "      <th>763</th>\n",
       "      <td>10</td>\n",
       "      <td>101</td>\n",
       "      <td>76</td>\n",
       "      <td>48</td>\n",
       "      <td>180</td>\n",
       "      <td>32.9</td>\n",
       "      <td>0.171</td>\n",
       "      <td>63</td>\n",
       "      <td>0</td>\n",
       "    </tr>\n",
       "    <tr>\n",
       "      <th>764</th>\n",
       "      <td>2</td>\n",
       "      <td>122</td>\n",
       "      <td>70</td>\n",
       "      <td>27</td>\n",
       "      <td>0</td>\n",
       "      <td>36.8</td>\n",
       "      <td>0.340</td>\n",
       "      <td>27</td>\n",
       "      <td>0</td>\n",
       "    </tr>\n",
       "    <tr>\n",
       "      <th>765</th>\n",
       "      <td>5</td>\n",
       "      <td>121</td>\n",
       "      <td>72</td>\n",
       "      <td>23</td>\n",
       "      <td>112</td>\n",
       "      <td>26.2</td>\n",
       "      <td>0.245</td>\n",
       "      <td>30</td>\n",
       "      <td>0</td>\n",
       "    </tr>\n",
       "    <tr>\n",
       "      <th>766</th>\n",
       "      <td>1</td>\n",
       "      <td>126</td>\n",
       "      <td>60</td>\n",
       "      <td>0</td>\n",
       "      <td>0</td>\n",
       "      <td>30.1</td>\n",
       "      <td>0.349</td>\n",
       "      <td>47</td>\n",
       "      <td>1</td>\n",
       "    </tr>\n",
       "    <tr>\n",
       "      <th>767</th>\n",
       "      <td>1</td>\n",
       "      <td>93</td>\n",
       "      <td>70</td>\n",
       "      <td>31</td>\n",
       "      <td>0</td>\n",
       "      <td>30.4</td>\n",
       "      <td>0.315</td>\n",
       "      <td>23</td>\n",
       "      <td>0</td>\n",
       "    </tr>\n",
       "  </tbody>\n",
       "</table>\n",
       "<p>768 rows × 9 columns</p>\n",
       "</div>"
      ],
      "text/plain": [
       "     Pregnancies  Glucose  BloodPressure  SkinThickness  Insulin   BMI  \\\n",
       "0              6      148             72             35        0  33.6   \n",
       "1              1       85             66             29        0  26.6   \n",
       "2              8      183             64              0        0  23.3   \n",
       "3              1       89             66             23       94  28.1   \n",
       "4              0      137             40             35      168  43.1   \n",
       "..           ...      ...            ...            ...      ...   ...   \n",
       "763           10      101             76             48      180  32.9   \n",
       "764            2      122             70             27        0  36.8   \n",
       "765            5      121             72             23      112  26.2   \n",
       "766            1      126             60              0        0  30.1   \n",
       "767            1       93             70             31        0  30.4   \n",
       "\n",
       "     DiabetesPedigreeFunction  Age  Outcome  \n",
       "0                       0.627   50        1  \n",
       "1                       0.351   31        0  \n",
       "2                       0.672   32        1  \n",
       "3                       0.167   21        0  \n",
       "4                       2.288   33        1  \n",
       "..                        ...  ...      ...  \n",
       "763                     0.171   63        0  \n",
       "764                     0.340   27        0  \n",
       "765                     0.245   30        0  \n",
       "766                     0.349   47        1  \n",
       "767                     0.315   23        0  \n",
       "\n",
       "[768 rows x 9 columns]"
      ]
     },
     "execution_count": 4,
     "metadata": {},
     "output_type": "execute_result"
    }
   ],
   "source": [
    "df"
   ]
  },
  {
   "cell_type": "code",
   "execution_count": 5,
   "id": "615e4615-df76-4c3a-843c-4efc7a2c98fc",
   "metadata": {},
   "outputs": [
    {
     "data": {
      "text/plain": [
       "False"
      ]
     },
     "execution_count": 5,
     "metadata": {},
     "output_type": "execute_result"
    }
   ],
   "source": [
    "df.isnull().any().any()"
   ]
  },
  {
   "cell_type": "code",
   "execution_count": 6,
   "id": "25043990-6286-4d26-9d72-a5c6e998b898",
   "metadata": {},
   "outputs": [
    {
     "data": {
      "text/plain": [
       "False"
      ]
     },
     "execution_count": 6,
     "metadata": {},
     "output_type": "execute_result"
    }
   ],
   "source": [
    "df.duplicated().any()"
   ]
  },
  {
   "cell_type": "code",
   "execution_count": 7,
   "id": "d671a3cf-6bff-4f0f-90bd-266b44f2870e",
   "metadata": {},
   "outputs": [
    {
     "name": "stdout",
     "output_type": "stream",
     "text": [
      "<class 'pandas.core.frame.DataFrame'>\n",
      "RangeIndex: 768 entries, 0 to 767\n",
      "Data columns (total 9 columns):\n",
      " #   Column                    Non-Null Count  Dtype  \n",
      "---  ------                    --------------  -----  \n",
      " 0   Pregnancies               768 non-null    int64  \n",
      " 1   Glucose                   768 non-null    int64  \n",
      " 2   BloodPressure             768 non-null    int64  \n",
      " 3   SkinThickness             768 non-null    int64  \n",
      " 4   Insulin                   768 non-null    int64  \n",
      " 5   BMI                       768 non-null    float64\n",
      " 6   DiabetesPedigreeFunction  768 non-null    float64\n",
      " 7   Age                       768 non-null    int64  \n",
      " 8   Outcome                   768 non-null    int64  \n",
      "dtypes: float64(2), int64(7)\n",
      "memory usage: 54.1 KB\n"
     ]
    }
   ],
   "source": [
    "df.info()"
   ]
  },
  {
   "cell_type": "code",
   "execution_count": 8,
   "id": "d81722e0-1420-46f0-97a2-e9ca6d770090",
   "metadata": {
    "tags": []
   },
   "outputs": [
    {
     "data": {
      "text/plain": [
       "Text(0.5, 1.0, 'correlation heatmap')"
      ]
     },
     "execution_count": 8,
     "metadata": {},
     "output_type": "execute_result"
    },
    {
     "data": {
      "image/png": "[encoded data removed]",
      "text/plain": [
       "<Figure size 1600x2000 with 2 Axes>"
      ]
     },
     "metadata": {},
     "output_type": "display_data"
    }
   ],
   "source": [
    "plt.figure(figsize=(16,20))\n",
    "mask=np.triu(np.ones_like(df.corr(),dtype=bool))\n",
    "heatmap=sns.heatmap(round(df.corr(),1),mask=mask,vmin=-1,vmax=1,annot=True,cmap='BrBG')\n",
    "heatmap.set_title('correlation heatmap',fontdict={'fontsize':18},pad=16)"
   ]
  },
  {
   "cell_type": "code",
   "execution_count": 9,
   "id": "b3ba03fe-f967-44dd-a744-7ec686688e2b",
   "metadata": {
    "tags": []
   },
   "outputs": [
    {
     "data": {
      "text/plain": [
       "Pregnancies                  17\n",
       "Glucose                     136\n",
       "BloodPressure                47\n",
       "SkinThickness                51\n",
       "Insulin                     186\n",
       "BMI                         248\n",
       "DiabetesPedigreeFunction    517\n",
       "Age                          52\n",
       "Outcome                       2\n",
       "dtype: int64"
      ]
     },
     "execution_count": 9,
     "metadata": {},
     "output_type": "execute_result"
    }
   ],
   "source": [
    "df.nunique()"
   ]
  },
  {
   "cell_type": "code",
   "execution_count": 10,
   "id": "ce9258da-4a06-42e4-a29b-ed657cd9c01c",
   "metadata": {
    "tags": []
   },
   "outputs": [
    {
     "data": {
      "text/html": [
       "<div>\n",
       "<style scoped>\n",
       "    .dataframe tbody tr th:only-of-type {\n",
       "        vertical-align: middle;\n",
       "    }\n",
       "\n",
       "    .dataframe tbody tr th {\n",
       "        vertical-align: top;\n",
       "    }\n",
       "\n",
       "    .dataframe thead th {\n",
       "        text-align: right;\n",
       "    }\n",
       "</style>\n",
       "<table border=\"1\" class=\"dataframe\">\n",
       "  <thead>\n",
       "    <tr style=\"text-align: right;\">\n",
       "      <th></th>\n",
       "      <th>Pregnancies</th>\n",
       "      <th>Glucose</th>\n",
       "      <th>BloodPressure</th>\n",
       "      <th>SkinThickness</th>\n",
       "      <th>Insulin</th>\n",
       "      <th>BMI</th>\n",
       "      <th>DiabetesPedigreeFunction</th>\n",
       "      <th>Age</th>\n",
       "      <th>Outcome</th>\n",
       "    </tr>\n",
       "  </thead>\n",
       "  <tbody>\n",
       "    <tr>\n",
       "      <th>count</th>\n",
       "      <td>768.000000</td>\n",
       "      <td>768.000000</td>\n",
       "      <td>768.000000</td>\n",
       "      <td>768.000000</td>\n",
       "      <td>768.000000</td>\n",
       "      <td>768.000000</td>\n",
       "      <td>768.000000</td>\n",
       "      <td>768.000000</td>\n",
       "      <td>768.000000</td>\n",
       "    </tr>\n",
       "    <tr>\n",
       "      <th>mean</th>\n",
       "      <td>3.845052</td>\n",
       "      <td>120.894531</td>\n",
       "      <td>69.105469</td>\n",
       "      <td>20.536458</td>\n",
       "      <td>79.799479</td>\n",
       "      <td>31.992578</td>\n",
       "      <td>0.471876</td>\n",
       "      <td>33.240885</td>\n",
       "      <td>0.348958</td>\n",
       "    </tr>\n",
       "    <tr>\n",
       "      <th>std</th>\n",
       "      <td>3.369578</td>\n",
       "      <td>31.972618</td>\n",
       "      <td>19.355807</td>\n",
       "      <td>15.952218</td>\n",
       "      <td>115.244002</td>\n",
       "      <td>7.884160</td>\n",
       "      <td>0.331329</td>\n",
       "      <td>11.760232</td>\n",
       "      <td>0.476951</td>\n",
       "    </tr>\n",
       "    <tr>\n",
       "      <th>min</th>\n",
       "      <td>0.000000</td>\n",
       "      <td>0.000000</td>\n",
       "      <td>0.000000</td>\n",
       "      <td>0.000000</td>\n",
       "      <td>0.000000</td>\n",
       "      <td>0.000000</td>\n",
       "      <td>0.078000</td>\n",
       "      <td>21.000000</td>\n",
       "      <td>0.000000</td>\n",
       "    </tr>\n",
       "    <tr>\n",
       "      <th>25%</th>\n",
       "      <td>1.000000</td>\n",
       "      <td>99.000000</td>\n",
       "      <td>62.000000</td>\n",
       "      <td>0.000000</td>\n",
       "      <td>0.000000</td>\n",
       "      <td>27.300000</td>\n",
       "      <td>0.243750</td>\n",
       "      <td>24.000000</td>\n",
       "      <td>0.000000</td>\n",
       "    </tr>\n",
       "    <tr>\n",
       "      <th>50%</th>\n",
       "      <td>3.000000</td>\n",
       "      <td>117.000000</td>\n",
       "      <td>72.000000</td>\n",
       "      <td>23.000000</td>\n",
       "      <td>30.500000</td>\n",
       "      <td>32.000000</td>\n",
       "      <td>0.372500</td>\n",
       "      <td>29.000000</td>\n",
       "      <td>0.000000</td>\n",
       "    </tr>\n",
       "    <tr>\n",
       "      <th>75%</th>\n",
       "      <td>6.000000</td>\n",
       "      <td>140.250000</td>\n",
       "      <td>80.000000</td>\n",
       "      <td>32.000000</td>\n",
       "      <td>127.250000</td>\n",
       "      <td>36.600000</td>\n",
       "      <td>0.626250</td>\n",
       "      <td>41.000000</td>\n",
       "      <td>1.000000</td>\n",
       "    </tr>\n",
       "    <tr>\n",
       "      <th>max</th>\n",
       "      <td>17.000000</td>\n",
       "      <td>199.000000</td>\n",
       "      <td>122.000000</td>\n",
       "      <td>99.000000</td>\n",
       "      <td>846.000000</td>\n",
       "      <td>67.100000</td>\n",
       "      <td>2.420000</td>\n",
       "      <td>81.000000</td>\n",
       "      <td>1.000000</td>\n",
       "    </tr>\n",
       "  </tbody>\n",
       "</table>\n",
       "</div>"
      ],
      "text/plain": [
       "       Pregnancies     Glucose  BloodPressure  SkinThickness     Insulin  \\\n",
       "count   768.000000  768.000000     768.000000     768.000000  768.000000   \n",
       "mean      3.845052  120.894531      69.105469      20.536458   79.799479   \n",
       "std       3.369578   31.972618      19.355807      15.952218  115.244002   \n",
       "min       0.000000    0.000000       0.000000       0.000000    0.000000   \n",
       "25%       1.000000   99.000000      62.000000       0.000000    0.000000   \n",
       "50%       3.000000  117.000000      72.000000      23.000000   30.500000   \n",
       "75%       6.000000  140.250000      80.000000      32.000000  127.250000   \n",
       "max      17.000000  199.000000     122.000000      99.000000  846.000000   \n",
       "\n",
       "              BMI  DiabetesPedigreeFunction         Age     Outcome  \n",
       "count  768.000000                768.000000  768.000000  768.000000  \n",
       "mean    31.992578                  0.471876   33.240885    0.348958  \n",
       "std      7.884160                  0.331329   11.760232    0.476951  \n",
       "min      0.000000                  0.078000   21.000000    0.000000  \n",
       "25%     27.300000                  0.243750   24.000000    0.000000  \n",
       "50%     32.000000                  0.372500   29.000000    0.000000  \n",
       "75%     36.600000                  0.626250   41.000000    1.000000  \n",
       "max     67.100000                  2.420000   81.000000    1.000000  "
      ]
     },
     "execution_count": 10,
     "metadata": {},
     "output_type": "execute_result"
    }
   ],
   "source": [
    "df.describe()"
   ]
  },
  {
   "cell_type": "code",
   "execution_count": 11,
   "id": "a0bbe9da-5c04-4960-9167-c9531fa8f969",
   "metadata": {
    "tags": []
   },
   "outputs": [
    {
     "data": {
      "text/plain": [
       "0    500\n",
       "1    268\n",
       "Name: Outcome, dtype: int64"
      ]
     },
     "execution_count": 11,
     "metadata": {},
     "output_type": "execute_result"
    }
   ],
   "source": [
    "df['Outcome'].value_counts()"
   ]
  },
  {
   "cell_type": "code",
   "execution_count": 12,
   "id": "c9b3c86e-6df2-4e78-9b74-377f9e3e3d6c",
   "metadata": {
    "tags": []
   },
   "outputs": [],
   "source": [
    "X=df.drop(['Outcome'],axis=1)\n",
    "y=df['Outcome']"
   ]
  },
  {
   "cell_type": "code",
   "execution_count": 13,
   "id": "1dee25f6-5e42-44b2-b86f-f691d827218e",
   "metadata": {
    "tags": []
   },
   "outputs": [
    {
     "name": "stdout",
     "output_type": "stream",
     "text": [
      "Requirement already satisfied: xgboost in c:\\users\\acer\\anaconda3\\lib\\site-packages (2.0.0)\n",
      "Requirement already satisfied: numpy in c:\\users\\acer\\anaconda3\\lib\\site-packages (from xgboost) (1.24.3)\n",
      "Requirement already satisfied: scipy in c:\\users\\acer\\anaconda3\\lib\\site-packages (from xgboost) (1.10.1)\n"
     ]
    }
   ],
   "source": [
    "!pip install xgboost\n",
    "from xgboost import XGBClassifier"
   ]
  },
  {
   "cell_type": "code",
   "execution_count": 14,
   "id": "411f14a1-54b5-4b5a-9ae7-a7db15c91831",
   "metadata": {
    "tags": []
   },
   "outputs": [],
   "source": [
    "X_train,X_test,y_train,y_test=train_test_split(X,y,test_size=0.3,random_state=42,stratify=y)"
   ]
  },
  {
   "cell_type": "code",
   "execution_count": 15,
   "id": "fde04708-7d64-4512-baf2-3d7110162fba",
   "metadata": {},
   "outputs": [],
   "source": [
    "scaler=RobustScaler()\n",
    "X_train_scaled = scaler.fit_transform(X_train)\n",
    "X_test_scaled = scaler.transform(X_test)"
   ]
  },
  {
   "cell_type": "code",
   "execution_count": 16,
   "id": "4f2a84d3-6d54-4626-9bea-0a3ff30d5e0f",
   "metadata": {
    "tags": []
   },
   "outputs": [
    {
     "data": {
      "text/plain": [
       "0.7229437229437229"
      ]
     },
     "execution_count": 16,
     "metadata": {},
     "output_type": "execute_result"
    }
   ],
   "source": [
    "xgb=XGBClassifier(use_label_encoder=False)\n",
    "xgb.fit(X_train_scaled,y_train)\n",
    "xgb_pred=xgb.predict(X_test_scaled)\n",
    "accuracy_score(y_test,xgb_pred)"
   ]
  },
  {
   "cell_type": "code",
   "execution_count": 17,
   "id": "77e4dffd-2ec8-457f-a674-b03fa5625915",
   "metadata": {
    "tags": []
   },
   "outputs": [
    {
     "name": "stdout",
     "output_type": "stream",
     "text": [
      "              precision    recall  f1-score   support\n",
      "\n",
      "           0       0.77      0.83      0.79       150\n",
      "           1       0.62      0.53      0.57        81\n",
      "\n",
      "    accuracy                           0.72       231\n",
      "   macro avg       0.69      0.68      0.68       231\n",
      "weighted avg       0.72      0.72      0.72       231\n",
      "\n"
     ]
    }
   ],
   "source": [
    "print(classification_report(y_test,xgb_pred))"
   ]
  },
  {
   "cell_type": "code",
   "execution_count": 18,
   "id": "498ae760-125a-40a6-add0-87e981fbcc64",
   "metadata": {
    "tags": []
   },
   "outputs": [
    {
     "data": {
      "text/plain": [
       "0.7402597402597403"
      ]
     },
     "execution_count": 18,
     "metadata": {},
     "output_type": "execute_result"
    }
   ],
   "source": [
    "xgb = XGBClassifier(scale_pos_weight=1.8657, use_label_encoder=False, eval_metric='logloss')\n",
    "xgb.fit(X_train_scaled,y_train)\n",
    "xgb_pred=xgb.predict(X_test_scaled)\n",
    "accuracy_score(y_test,xgb_pred)\n"
   ]
  },
  {
   "cell_type": "code",
   "execution_count": 19,
   "id": "b4c17f0d-e3d4-4ec9-9c48-1ed672c6edfb",
   "metadata": {
    "tags": []
   },
   "outputs": [
    {
     "name": "stdout",
     "output_type": "stream",
     "text": [
      "              precision    recall  f1-score   support\n",
      "\n",
      "           0       0.78      0.83      0.81       150\n",
      "           1       0.64      0.58      0.61        81\n",
      "\n",
      "    accuracy                           0.74       231\n",
      "   macro avg       0.71      0.70      0.71       231\n",
      "weighted avg       0.74      0.74      0.74       231\n",
      "\n"
     ]
    }
   ],
   "source": [
    "print(classification_report(y_test,xgb_pred))"
   ]
  },
  {
   "cell_type": "code",
   "execution_count": 20,
   "id": "198e6e7b-76c7-4e1c-9569-b57c7bd1739f",
   "metadata": {
    "tags": []
   },
   "outputs": [
    {
     "name": "stdout",
     "output_type": "stream",
     "text": [
      "Requirement already satisfied: imbalanced-learn in c:\\users\\acer\\anaconda3\\lib\\site-packages (0.10.1)\n",
      "Requirement already satisfied: numpy>=1.17.3 in c:\\users\\acer\\anaconda3\\lib\\site-packages (from imbalanced-learn) (1.24.3)\n",
      "Requirement already satisfied: scipy>=1.3.2 in c:\\users\\acer\\anaconda3\\lib\\site-packages (from imbalanced-learn) (1.10.1)\n",
      "Requirement already satisfied: scikit-learn>=1.0.2 in c:\\users\\acer\\anaconda3\\lib\\site-packages (from imbalanced-learn) (1.2.2)\n",
      "Requirement already satisfied: joblib>=1.1.1 in c:\\users\\acer\\anaconda3\\lib\\site-packages (from imbalanced-learn) (1.2.0)\n",
      "Requirement already satisfied: threadpoolctl>=2.0.0 in c:\\users\\acer\\anaconda3\\lib\\site-packages (from imbalanced-learn) (2.2.0)\n"
     ]
    }
   ],
   "source": [
    "!pip install imbalanced-learn\n"
   ]
  },
  {
   "cell_type": "code",
   "execution_count": 23,
   "id": "90b82e1b-cf47-47b1-b192-ee8da22c8c9e",
   "metadata": {
    "tags": []
   },
   "outputs": [],
   "source": [
    "from imblearn.over_sampling import SMOTE\n",
    "\n",
    "\n",
    "smote = SMOTE(random_state=42)\n",
    "X_res, y_res = smote.fit_resample(X_train_scaled, y_train)\n"
   ]
  },
  {
   "cell_type": "code",
   "execution_count": 24,
   "id": "79614491-336a-477a-99ef-bbec7d891a16",
   "metadata": {
    "tags": []
   },
   "outputs": [
    {
     "data": {
      "text/plain": [
       "0.7402597402597403"
      ]
     },
     "execution_count": 24,
     "metadata": {},
     "output_type": "execute_result"
    }
   ],
   "source": [
    "xgb = XGBClassifier(scale_pos_weight=1.8657, use_label_encoder=False, eval_metric='logloss')\n",
    "xgb.fit(X_res, y_res)\n",
    "xgb_pred=xgb.predict(X_test_scaled)\n",
    "accuracy_score(y_test,xgb_pred)"
   ]
  },
  {
   "cell_type": "code",
   "execution_count": 25,
   "id": "32762e28-4c7f-44a7-a99f-c3c0caaf15b1",
   "metadata": {
    "tags": []
   },
   "outputs": [
    {
     "name": "stdout",
     "output_type": "stream",
     "text": [
      "              precision    recall  f1-score   support\n",
      "\n",
      "           0       0.79      0.81      0.80       150\n",
      "           1       0.64      0.60      0.62        81\n",
      "\n",
      "    accuracy                           0.74       231\n",
      "   macro avg       0.71      0.71      0.71       231\n",
      "weighted avg       0.74      0.74      0.74       231\n",
      "\n"
     ]
    }
   ],
   "source": [
    "print(classification_report(y_test,xgb_pred))"
   ]
  },
  {
   "cell_type": "code",
   "execution_count": 26,
   "id": "725f2dde-5afa-4c61-8c9b-444ca76891af",
   "metadata": {
    "tags": []
   },
   "outputs": [],
   "source": [
    "from sklearn.preprocessing import StandardScaler\n",
    "scaler=StandardScaler()\n",
    "X_train_scaled = scaler.fit_transform(X_train)\n",
    "X_test_scaled = scaler.transform(X_test)"
   ]
  },
  {
   "cell_type": "code",
   "execution_count": 27,
   "id": "324635f2-fdf7-405e-92d0-300e8b64df55",
   "metadata": {
    "tags": []
   },
   "outputs": [
    {
     "data": {
      "text/plain": [
       "0.7229437229437229"
      ]
     },
     "execution_count": 27,
     "metadata": {},
     "output_type": "execute_result"
    }
   ],
   "source": [
    "xgb=XGBClassifier(use_label_encoder=False)\n",
    "xgb.fit(X_train_scaled,y_train)\n",
    "xgb_pred=xgb.predict(X_test_scaled)\n",
    "accuracy_score(y_test,xgb_pred)"
   ]
  },
  {
   "cell_type": "code",
   "execution_count": 28,
   "id": "e0988e93-8a5a-4956-9079-4b7a2ecbbc48",
   "metadata": {
    "tags": []
   },
   "outputs": [
    {
     "name": "stdout",
     "output_type": "stream",
     "text": [
      "              precision    recall  f1-score   support\n",
      "\n",
      "           0       0.77      0.83      0.79       150\n",
      "           1       0.62      0.53      0.57        81\n",
      "\n",
      "    accuracy                           0.72       231\n",
      "   macro avg       0.69      0.68      0.68       231\n",
      "weighted avg       0.72      0.72      0.72       231\n",
      "\n"
     ]
    }
   ],
   "source": [
    "print(classification_report(y_test,xgb_pred))"
   ]
  },
  {
   "cell_type": "code",
   "execution_count": 29,
   "id": "9df5ffc8-5029-42a9-bb39-9771efffd1c3",
   "metadata": {
    "tags": []
   },
   "outputs": [
    {
     "data": {
      "text/plain": [
       "0.7402597402597403"
      ]
     },
     "execution_count": 29,
     "metadata": {},
     "output_type": "execute_result"
    }
   ],
   "source": [
    "xgb = XGBClassifier(scale_pos_weight=1.8657, use_label_encoder=False, eval_metric='logloss')\n",
    "xgb.fit(X_train_scaled,y_train)\n",
    "xgb_pred=xgb.predict(X_test_scaled)\n",
    "accuracy_score(y_test,xgb_pred)"
   ]
  },
  {
   "cell_type": "code",
   "execution_count": 30,
   "id": "4c582bf7-72cf-4e2c-8bff-3e50cfb5729d",
   "metadata": {
    "tags": []
   },
   "outputs": [
    {
     "name": "stdout",
     "output_type": "stream",
     "text": [
      "              precision    recall  f1-score   support\n",
      "\n",
      "           0       0.78      0.83      0.81       150\n",
      "           1       0.64      0.58      0.61        81\n",
      "\n",
      "    accuracy                           0.74       231\n",
      "   macro avg       0.71      0.70      0.71       231\n",
      "weighted avg       0.74      0.74      0.74       231\n",
      "\n"
     ]
    }
   ],
   "source": [
    "print(classification_report(y_test,xgb_pred))"
   ]
  },
  {
   "cell_type": "code",
   "execution_count": 31,
   "id": "aa1135c6-d339-4cf2-ad9e-bb117bf4c1e3",
   "metadata": {
    "tags": []
   },
   "outputs": [
    {
     "data": {
      "text/plain": [
       "0.7489177489177489"
      ]
     },
     "execution_count": 31,
     "metadata": {},
     "output_type": "execute_result"
    }
   ],
   "source": [
    "xgb = XGBClassifier(n_estimators=100, learning_rate=0.1, gamma=0, subsample=0.5,colsample_bytree=1, max_depth=8)\n",
    "xgb.fit(X_train_scaled,y_train)\n",
    "xgb_pred=xgb.predict(X_test_scaled)\n",
    "accuracy_score(y_test,xgb_pred)"
   ]
  },
  {
   "cell_type": "code",
   "execution_count": 33,
   "id": "3910116a-30a9-4f2e-b12c-55b2ee65592e",
   "metadata": {
    "tags": []
   },
   "outputs": [
    {
     "name": "stdout",
     "output_type": "stream",
     "text": [
      "              precision    recall  f1-score   support\n",
      "\n",
      "           0       0.77      0.87      0.82       150\n",
      "           1       0.68      0.53      0.60        81\n",
      "\n",
      "    accuracy                           0.75       231\n",
      "   macro avg       0.73      0.70      0.71       231\n",
      "weighted avg       0.74      0.75      0.74       231\n",
      "\n"
     ]
    }
   ],
   "source": [
    "print(classification_report(y_test,xgb_pred))"
   ]
  },
  {
   "cell_type": "code",
   "execution_count": 34,
   "id": "779e1a43-05b7-46c8-b32c-1667c209cf1e",
   "metadata": {
    "tags": []
   },
   "outputs": [
    {
     "data": {
      "text/plain": [
       "0.7316017316017316"
      ]
     },
     "execution_count": 34,
     "metadata": {},
     "output_type": "execute_result"
    }
   ],
   "source": [
    "rfc_param={'n_estimators':[1,2,3,4,5,6,7,8,9,10],\n",
    "           'learning_rate':[0.001,0.01,0.1,0.3,0.5],\n",
    "           'max_depth':[1,2,3,4,5,6,7,8,9,10]}\n",
    "random=RandomizedSearchCV(estimator=xgb,\n",
    "                          param_distributions=rfc_param,\n",
    "                          scoring='recall',\n",
    "                          cv=5,n_iter=10,\n",
    "                          return_train_score=True,\n",
    "                          random_state=1234,verbose=0)\n",
    "random.fit(X_train_scaled,y_train)\n",
    "rfc_pred=random.predict(X_test_scaled)\n",
    "accuracy_score(y_test,rfc_pred)"
   ]
  },
  {
   "cell_type": "code",
   "execution_count": 35,
   "id": "4032f94d-1a3d-41b9-841e-adf98cf2e370",
   "metadata": {
    "tags": []
   },
   "outputs": [
    {
     "name": "stdout",
     "output_type": "stream",
     "text": [
      "              precision    recall  f1-score   support\n",
      "\n",
      "           0       0.76      0.85      0.81       150\n",
      "           1       0.65      0.51      0.57        81\n",
      "\n",
      "    accuracy                           0.73       231\n",
      "   macro avg       0.71      0.68      0.69       231\n",
      "weighted avg       0.72      0.73      0.72       231\n",
      "\n"
     ]
    }
   ],
   "source": [
    "print(classification_report(y_test,rfc_pred))"
   ]
  },
  {
   "cell_type": "code",
   "execution_count": 36,
   "id": "e0f4a8de-ae1e-4c93-aacf-6fdcbda90df0",
   "metadata": {
    "tags": []
   },
   "outputs": [
    {
     "name": "stdout",
     "output_type": "stream",
     "text": [
      "              precision    recall  f1-score   support\n",
      "\n",
      "           0       0.70      0.95      0.81       150\n",
      "           1       0.75      0.26      0.39        81\n",
      "\n",
      "    accuracy                           0.71       231\n",
      "   macro avg       0.73      0.61      0.60       231\n",
      "weighted avg       0.72      0.71      0.66       231\n",
      "\n"
     ]
    }
   ],
   "source": [
    "rand_opt=XGBClassifier(use_label_encoder=False,n_estimators=1,max_depth=6,learning_rate=0.3)\n",
    "print(classification_report(y_test,rand_opt.fit(X_train_scaled,y_train).predict(X_test_scaled)))"
   ]
  },
  {
   "cell_type": "code",
   "execution_count": 37,
   "id": "2fb6eb47-0721-4080-a4a4-64d44dace23e",
   "metadata": {},
   "outputs": [
    {
     "name": "stdout",
     "output_type": "stream",
     "text": [
      "Requirement already satisfied: optuna in c:\\users\\acer\\anaconda3\\lib\\site-packages (3.3.0)\n",
      "Requirement already satisfied: alembic>=1.5.0 in c:\\users\\acer\\anaconda3\\lib\\site-packages (from optuna) (1.12.0)\n",
      "Requirement already satisfied: cmaes>=0.10.0 in c:\\users\\acer\\anaconda3\\lib\\site-packages (from optuna) (0.10.0)\n",
      "Requirement already satisfied: colorlog in c:\\users\\acer\\anaconda3\\lib\\site-packages (from optuna) (6.7.0)\n",
      "Requirement already satisfied: numpy in c:\\users\\acer\\anaconda3\\lib\\site-packages (from optuna) (1.24.3)\n",
      "Requirement already satisfied: packaging>=20.0 in c:\\users\\acer\\anaconda3\\lib\\site-packages (from optuna) (23.0)\n",
      "Requirement already satisfied: sqlalchemy>=1.3.0 in c:\\users\\acer\\anaconda3\\lib\\site-packages (from optuna) (1.4.39)\n",
      "Requirement already satisfied: tqdm in c:\\users\\acer\\anaconda3\\lib\\site-packages (from optuna) (4.65.0)\n",
      "Requirement already satisfied: PyYAML in c:\\users\\acer\\anaconda3\\lib\\site-packages (from optuna) (6.0)\n",
      "Requirement already satisfied: Mako in c:\\users\\acer\\anaconda3\\lib\\site-packages (from alembic>=1.5.0->optuna) (1.2.4)\n",
      "Requirement already satisfied: typing-extensions>=4 in c:\\users\\acer\\anaconda3\\lib\\site-packages (from alembic>=1.5.0->optuna) (4.6.3)\n",
      "Requirement already satisfied: greenlet!=0.4.17 in c:\\users\\acer\\anaconda3\\lib\\site-packages (from sqlalchemy>=1.3.0->optuna) (2.0.1)\n",
      "Requirement already satisfied: colorama in c:\\users\\acer\\anaconda3\\lib\\site-packages (from colorlog->optuna) (0.4.6)\n",
      "Requirement already satisfied: MarkupSafe>=0.9.2 in c:\\users\\acer\\anaconda3\\lib\\site-packages (from Mako->alembic>=1.5.0->optuna) (2.1.1)\n"
     ]
    }
   ],
   "source": [
    "! pip install optuna"
   ]
  },
  {
   "cell_type": "code",
   "execution_count": 38,
   "id": "f21028ee-0a1c-40ff-b4a4-b3f678690943",
   "metadata": {},
   "outputs": [
    {
     "name": "stderr",
     "output_type": "stream",
     "text": [
      "[I 2023-09-15 17:25:54,331] A new study created in memory with name: no-name-b1ea7574-9ba6-420e-a5ea-9d8949e69e36\n",
      "[I 2023-09-15 17:26:09,364] Trial 0 finished with value: 0.7445887445887446 and parameters: {'learning_rate': 0.4337299384839934, 'n_estimators': 62, 'max_depth': 2}. Best is trial 0 with value: 0.7445887445887446.\n",
      "[I 2023-09-15 17:26:59,544] Trial 1 finished with value: 0.7532467532467533 and parameters: {'learning_rate': 0.6227878970580116, 'n_estimators': 53, 'max_depth': 6}. Best is trial 1 with value: 0.7532467532467533.\n",
      "[I 2023-09-15 17:28:04,799] Trial 2 finished with value: 0.7532467532467533 and parameters: {'learning_rate': 0.3449046541845163, 'n_estimators': 83, 'max_depth': 5}. Best is trial 1 with value: 0.7532467532467533.\n",
      "[I 2023-09-15 17:28:46,672] Trial 3 finished with value: 0.7575757575757576 and parameters: {'learning_rate': 0.12479078947575147, 'n_estimators': 84, 'max_depth': 5}. Best is trial 3 with value: 0.7575757575757576.\n",
      "[I 2023-09-15 17:29:27,932] Trial 4 finished with value: 0.7619047619047619 and parameters: {'learning_rate': 0.1367786595982617, 'n_estimators': 51, 'max_depth': 9}. Best is trial 4 with value: 0.7619047619047619.\n",
      "[I 2023-09-15 17:30:17,936] Trial 5 finished with value: 0.7489177489177489 and parameters: {'learning_rate': 0.3385261706282629, 'n_estimators': 79, 'max_depth': 7}. Best is trial 4 with value: 0.7619047619047619.\n",
      "[I 2023-09-15 17:31:01,917] Trial 6 finished with value: 0.7186147186147186 and parameters: {'learning_rate': 0.8576971233008879, 'n_estimators': 84, 'max_depth': 10}. Best is trial 4 with value: 0.7619047619047619.\n",
      "[I 2023-09-15 17:31:39,748] Trial 7 finished with value: 0.7445887445887446 and parameters: {'learning_rate': 0.289291985776524, 'n_estimators': 38, 'max_depth': 10}. Best is trial 4 with value: 0.7619047619047619.\n",
      "[I 2023-09-15 17:32:11,267] Trial 8 finished with value: 0.7445887445887446 and parameters: {'learning_rate': 0.5562741566380139, 'n_estimators': 79, 'max_depth': 4}. Best is trial 4 with value: 0.7619047619047619.\n",
      "[I 2023-09-15 17:32:38,291] Trial 9 finished with value: 0.7619047619047619 and parameters: {'learning_rate': 0.2662820689035303, 'n_estimators': 46, 'max_depth': 6}. Best is trial 4 with value: 0.7619047619047619.\n",
      "[I 2023-09-15 17:32:44,065] Trial 10 finished with value: 0.6493506493506493 and parameters: {'learning_rate': 0.02534422085393262, 'n_estimators': 7, 'max_depth': 8}. Best is trial 4 with value: 0.7619047619047619.\n",
      "[I 2023-09-15 17:33:10,240] Trial 11 finished with value: 0.7705627705627706 and parameters: {'learning_rate': 0.16487418081446287, 'n_estimators': 34, 'max_depth': 8}. Best is trial 11 with value: 0.7705627705627706.\n",
      "[I 2023-09-15 17:33:27,903] Trial 12 finished with value: 0.7142857142857143 and parameters: {'learning_rate': 0.02011091086771169, 'n_estimators': 24, 'max_depth': 8}. Best is trial 11 with value: 0.7705627705627706.\n",
      "[I 2023-09-15 17:33:55,273] Trial 13 finished with value: 0.7835497835497836 and parameters: {'learning_rate': 0.17109982800287937, 'n_estimators': 28, 'max_depth': 9}. Best is trial 13 with value: 0.7835497835497836.\n",
      "[I 2023-09-15 17:34:12,750] Trial 14 finished with value: 0.7575757575757576 and parameters: {'learning_rate': 0.18843181518614036, 'n_estimators': 23, 'max_depth': 8}. Best is trial 13 with value: 0.7835497835497836.\n",
      "[I 2023-09-15 17:34:34,672] Trial 15 finished with value: 0.7619047619047619 and parameters: {'learning_rate': 0.4442076974471743, 'n_estimators': 26, 'max_depth': 9}. Best is trial 13 with value: 0.7835497835497836.\n",
      "[I 2023-09-15 17:34:36,875] Trial 16 finished with value: 0.7532467532467533 and parameters: {'learning_rate': 0.20586063797991966, 'n_estimators': 12, 'max_depth': 1}. Best is trial 13 with value: 0.7835497835497836.\n",
      "[I 2023-09-15 17:35:40,905] Trial 17 finished with value: 0.7532467532467533 and parameters: {'learning_rate': 0.1163322960790365, 'n_estimators': 99, 'max_depth': 7}. Best is trial 13 with value: 0.7835497835497836.\n",
      "[I 2023-09-15 17:36:11,982] Trial 18 finished with value: 0.70995670995671 and parameters: {'learning_rate': 0.011062117269256405, 'n_estimators': 31, 'max_depth': 9}. Best is trial 13 with value: 0.7835497835497836.\n",
      "[I 2023-09-15 17:36:16,873] Trial 19 finished with value: 0.7662337662337663 and parameters: {'learning_rate': 0.23843964677488122, 'n_estimators': 14, 'max_depth': 3}. Best is trial 13 with value: 0.7835497835497836.\n",
      "[I 2023-09-15 17:36:41,791] Trial 20 finished with value: 0.7402597402597403 and parameters: {'learning_rate': 0.40090607164817393, 'n_estimators': 36, 'max_depth': 7}. Best is trial 13 with value: 0.7835497835497836.\n",
      "[I 2023-09-15 17:36:45,885] Trial 21 finished with value: 0.7445887445887446 and parameters: {'learning_rate': 0.23698719007045235, 'n_estimators': 12, 'max_depth': 3}. Best is trial 13 with value: 0.7835497835497836.\n",
      "[I 2023-09-15 17:36:51,099] Trial 22 finished with value: 0.7705627705627706 and parameters: {'learning_rate': 0.1890603356831857, 'n_estimators': 19, 'max_depth': 3}. Best is trial 13 with value: 0.7835497835497836.\n",
      "[I 2023-09-15 17:36:57,223] Trial 23 finished with value: 0.7532467532467533 and parameters: {'learning_rate': 0.10227904511076043, 'n_estimators': 42, 'max_depth': 1}. Best is trial 13 with value: 0.7835497835497836.\n",
      "[I 2023-09-15 17:37:04,953] Trial 24 finished with value: 0.7575757575757576 and parameters: {'learning_rate': 0.18269536259618946, 'n_estimators': 19, 'max_depth': 4}. Best is trial 13 with value: 0.7835497835497836.\n",
      "[I 2023-09-15 17:37:07,447] Trial 25 finished with value: 0.7359307359307359 and parameters: {'learning_rate': 0.3170432476860977, 'n_estimators': 3, 'max_depth': 10}. Best is trial 13 with value: 0.7835497835497836.\n",
      "[I 2023-09-15 17:37:18,078] Trial 26 finished with value: 0.7445887445887446 and parameters: {'learning_rate': 0.06309560911496725, 'n_estimators': 31, 'max_depth': 3}. Best is trial 13 with value: 0.7835497835497836.\n",
      "[I 2023-09-15 17:38:06,107] Trial 27 finished with value: 0.7619047619047619 and parameters: {'learning_rate': 0.1309607429180994, 'n_estimators': 60, 'max_depth': 9}. Best is trial 13 with value: 0.7835497835497836.\n",
      "[I 2023-09-15 17:38:23,096] Trial 28 finished with value: 0.7532467532467533 and parameters: {'learning_rate': 0.17212382696447706, 'n_estimators': 31, 'max_depth': 6}. Best is trial 13 with value: 0.7835497835497836.\n",
      "[I 2023-09-15 17:38:27,092] Trial 29 finished with value: 0.7316017316017316 and parameters: {'learning_rate': 0.07575824517345774, 'n_estimators': 18, 'max_depth': 2}. Best is trial 13 with value: 0.7835497835497836.\n",
      "[I 2023-09-15 17:39:12,448] Trial 30 finished with value: 0.7489177489177489 and parameters: {'learning_rate': 0.2704524702721766, 'n_estimators': 64, 'max_depth': 8}. Best is trial 13 with value: 0.7835497835497836.\n",
      "[I 2023-09-15 17:39:16,070] Trial 31 finished with value: 0.7619047619047619 and parameters: {'learning_rate': 0.22972687694330418, 'n_estimators': 13, 'max_depth': 3}. Best is trial 13 with value: 0.7835497835497836.\n"
     ]
    }
   ],
   "source": [
    "import optuna\n",
    "from xgboost import XGBClassifier\n",
    "from sklearn.model_selection import train_test_split\n",
    "from sklearn.metrics import accuracy_score\n",
    "\n",
    "def objective(trial):\n",
    "    xgb_params = {\n",
    "        'learning_rate': trial.suggest_float(\"learning_rate\", 0.01, 1),\n",
    "        'n_estimators': trial.suggest_int(\"n_estimators\", 1, 100),\n",
    "        'max_depth': trial.suggest_int('max_depth', 1, 10)\n",
    "    }\n",
    "    xgb = XGBClassifier(**xgb_params, use_label_encoder=False, eval_metric='logloss')\n",
    "    xgb.fit(X_train_scaled, y_train)\n",
    "    y_pred = xgb.predict(X_test_scaled)\n",
    "    return accuracy_score(y_test, y_pred)\n",
    "\n",
    "\n",
    "\n",
    "study = optuna.create_study(direction=\"maximize\")\n",
    "study.optimize(objective, n_trials=32)"
   ]
  },
  {
   "cell_type": "code",
   "execution_count": 39,
   "id": "3b35deed-38a0-449d-817c-0b94451b701d",
   "metadata": {
    "tags": []
   },
   "outputs": [
    {
     "name": "stdout",
     "output_type": "stream",
     "text": [
      "Number of finished trials: 32\n",
      "The best trial is \n",
      "FrozenTrial(number=13, state=1, values=[0.7835497835497836], datetime_start=datetime.datetime(2023, 9, 15, 17, 33, 27, 905856), datetime_complete=datetime.datetime(2023, 9, 15, 17, 33, 55, 273927), params={'learning_rate': 0.17109982800287937, 'n_estimators': 28, 'max_depth': 9}, user_attrs={}, system_attrs={}, intermediate_values={}, distributions={'learning_rate': FloatDistribution(high=1.0, log=False, low=0.01, step=None), 'n_estimators': IntDistribution(high=100, log=False, low=1, step=1), 'max_depth': IntDistribution(high=10, log=False, low=1, step=1)}, trial_id=13, value=None)\n"
     ]
    }
   ],
   "source": [
    "trial = study.best_trial\n",
    "print(f\"Number of finished trials: {len(study.trials)}\")\n",
    "print(f\"The best trial is \\n{trial}\")"
   ]
  },
  {
   "cell_type": "code",
   "execution_count": 40,
   "id": "6f9e58d2-2125-4e0f-b722-60408f4bee71",
   "metadata": {
    "tags": []
   },
   "outputs": [
    {
     "name": "stdout",
     "output_type": "stream",
     "text": [
      "The best hyperparameters are \n",
      "{'learning_rate': 0.17109982800287937, 'n_estimators': 28, 'max_depth': 9}\n"
     ]
    }
   ],
   "source": [
    "best_params = trial.params\n",
    "print(f\"The best hyperparameters are \\n{best_params}\")"
   ]
  },
  {
   "cell_type": "code",
   "execution_count": 41,
   "id": "660bb7ac-a94c-4a63-b752-c6cbdf995a48",
   "metadata": {
    "tags": []
   },
   "outputs": [],
   "source": [
    "best_model = XGBClassifier(**best_params, use_label_encoder=False, eval_metric='logloss')\n",
    "best_model.fit(X_train_scaled, y_train)\n",
    "y_pred = best_model.predict(X_test_scaled)"
   ]
  },
  {
   "cell_type": "code",
   "execution_count": 42,
   "id": "f75e2afe-cd2e-4d75-94d2-c4afa72e1493",
   "metadata": {
    "tags": []
   },
   "outputs": [
    {
     "name": "stdout",
     "output_type": "stream",
     "text": [
      "Classification Report:\n",
      "              precision    recall  f1-score   support\n",
      "\n",
      "           0       0.80      0.89      0.84       150\n",
      "           1       0.74      0.59      0.66        81\n",
      "\n",
      "    accuracy                           0.78       231\n",
      "   macro avg       0.77      0.74      0.75       231\n",
      "weighted avg       0.78      0.78      0.78       231\n",
      "\n"
     ]
    }
   ],
   "source": [
    "print(\"Classification Report:\")\n",
    "print(classification_report(y_test, y_pred))"
   ]
  },
  {
   "cell_type": "code",
   "execution_count": 45,
   "id": "73972dc5-2fe9-4be0-b632-baa362871e59",
   "metadata": {
    "tags": []
   },
   "outputs": [
    {
     "data": {
      "text/plain": [
       "0.7575757575757576"
      ]
     },
     "execution_count": 45,
     "metadata": {},
     "output_type": "execute_result"
    }
   ],
   "source": [
    "grid_param={'n_estimators':[1,2,3,4,5,6,7,8,9,10],\n",
    "           'learning_rate':[0.001,0.01,0.1,0.3,0.5],\n",
    "           'max_depth':[1,2,3,4,5,6,7,8,9,10]}\n",
    "random=GridSearchCV(estimator=xgb,\n",
    "                          param_grid=grid_param,\n",
    "                          scoring='recall',\n",
    "                          cv=10,n_jobs=-1,\n",
    "                          return_train_score=True)\n",
    "random.fit(X_train_scaled,y_train)\n",
    "grid_pred=random.predict(X_test_scaled)\n",
    "accuracy_score(y_test,grid_pred)"
   ]
  },
  {
   "cell_type": "code",
   "execution_count": 46,
   "id": "8cfbdcc7-d621-4202-a4ba-0e84c55b1016",
   "metadata": {
    "tags": []
   },
   "outputs": [
    {
     "name": "stdout",
     "output_type": "stream",
     "text": [
      "              precision    recall  f1-score   support\n",
      "\n",
      "           0       0.78      0.87      0.82       150\n",
      "           1       0.70      0.54      0.61        81\n",
      "\n",
      "    accuracy                           0.76       231\n",
      "   macro avg       0.74      0.71      0.72       231\n",
      "weighted avg       0.75      0.76      0.75       231\n",
      "\n"
     ]
    }
   ],
   "source": [
    "print(classification_report(y_test,grid_pred))"
   ]
  }
 ],
 "metadata": {
  "kernelspec": {
   "display_name": "Python 3 (ipykernel)",
   "language": "python",
   "name": "python3"
  },
  "language_info": {
   "codemirror_mode": {
    "name": "ipython",
    "version": 3
   },
   "file_extension": ".py",
   "mimetype": "text/x-python",
   "name": "python",
   "nbconvert_exporter": "python",
   "pygments_lexer": "ipython3",
   "version": "3.11.3"
  }
 },
 "nbformat": 4,
 "nbformat_minor": 5
}
